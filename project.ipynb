{
 "cells": [
  {
   "cell_type": "markdown",
   "id": "80080419",
   "metadata": {},
   "source": [
    "# Programming for Data Analysis - Project 2"
   ]
  },
  {
   "cell_type": "markdown",
   "id": "721cdff4",
   "metadata": {},
   "source": [
    "## Problem Statement"
   ]
  },
  {
   "cell_type": "markdown",
   "id": "eada9699",
   "metadata": {},
   "source": [
    "This project will investigate the Wisconsin Breast Cancer dataset. The following list presents the\n",
    "requirements of the project\n",
    "\n",
    "- Undertake an analysis/review of the dataset and present an overview and background.\n",
    "- Provide a literature review on classifiers which have been applied to the dataset and compare their performance\n",
    "- Present a statistical analysis of the dataset\n",
    "- Using a range of machine learning algorithms, train a set of classifiers on the dataset (using SKLearn etc.) and present classification performance results. Detail your rationale for the parameter selections you made while training the classifiers.\n",
    "- Compare, contrast and critique your results with reference to the literature\n",
    "- Discuss and investigate how the dataset could be extended – using data synthesis of new tumour datapoints\n",
    "- Document your work in a Jupyter notebook.\n",
    "- As a suggestion, you could use Pandas, Seaborn, SKLearn, etc. to perform your analysis.\n",
    "- Please use GitHub to demonstrate research, progress and consistency.\n"
   ]
  },
  {
   "cell_type": "markdown",
   "id": "cd0e2d34",
   "metadata": {},
   "source": [
    "## Project Overview\n",
    "***"
   ]
  },
  {
   "cell_type": "markdown",
   "id": "6e046a78",
   "metadata": {},
   "source": [
    "## Dataset Overview & Background\n",
    "***\n",
    "\n",
    "**Title:** Wisconsin Diagnostic Breast Cancer (WDBC) Dataset includes following information:\n",
    "\n",
    "**Number of instances:** 569 \n",
    "\n",
    "**Number of attributes:** 32 (ID, diagnosis, 30 real-valued input features)\n",
    "\n",
    "**Attribute information:**\n",
    "\n",
    "1) ID number\n",
    "\n",
    "2) Diagnosis (M = malignant, B = benign)\n",
    "\n",
    "3-32)\n",
    "\n",
    "Ten real-valued features are computed for each cell nucleus:\n",
    "\n",
    "\ta) radius (mean of distances from center to points on the perimeter)\n",
    "\tb) texture (standard deviation of gray-scale values)\n",
    "\tc) perimeter\n",
    "\td) area\n",
    "\te) smoothness (local variation in radius lengths)\n",
    "\tf) compactness (perimeter^2 / area - 1.0)\n",
    "\tg) concavity (severity of concave portions of the contour)\n",
    "\th) concave points (number of concave portions of the contour)\n",
    "\ti) symmetry \n",
    "\tj) fractal dimension (\"coastline approximation\" - 1)\n",
    "   \n",
    "The mean, standard error, and \"worst\" or largest (mean of the three\n",
    "largest values) of these features were computed for each image,\n",
    "resulting in 30 features.  For instance, field 3 is Mean Radius, field\n",
    "13 is Radius SE, field 23 is Worst Radius.\n",
    "\n",
    "    \n",
    "**Missing attribute values:** none\n",
    "\n",
    "**Class distribution:** 357 benign, 212 malignant"
   ]
  },
  {
   "cell_type": "markdown",
   "id": "d42d05f2",
   "metadata": {},
   "source": [
    "## Libraries & Modules\n",
    "***"
   ]
  },
  {
   "cell_type": "code",
   "execution_count": 2,
   "id": "deb92854",
   "metadata": {},
   "outputs": [],
   "source": [
    "import pandas as pd\n",
    "\n",
    "# Numerical Arrays\n",
    "import numpy as np\n",
    "\n",
    "# Plotting\n",
    "import matplotlib as plt\n",
    "import seaborn as ss\n",
    "\n",
    "# Machine Learning\n",
    "import sklearn as skl"
   ]
  },
  {
   "cell_type": "markdown",
   "id": "ce27927f",
   "metadata": {},
   "source": []
  },
  {
   "cell_type": "markdown",
   "id": "3e7c0120",
   "metadata": {},
   "source": [
    "## Dataset Import and Set Up\n",
    "***"
   ]
  },
  {
   "cell_type": "markdown",
   "id": "bd1bab41",
   "metadata": {},
   "source": [
    "### Dataset Import"
   ]
  },
  {
   "cell_type": "code",
   "execution_count": 49,
   "id": "12356d4a",
   "metadata": {},
   "outputs": [],
   "source": [
    "file = 'data/diagnostic.data'\n",
    "\n",
    "data = pd.read_csv(file, header=None)\n",
    "# print (data)"
   ]
  },
  {
   "cell_type": "markdown",
   "id": "025f8ac5",
   "metadata": {},
   "source": [
    "### Variables Set Up"
   ]
  },
  {
   "cell_type": "code",
   "execution_count": 50,
   "id": "b596a0d8",
   "metadata": {},
   "outputs": [],
   "source": [
    "columns = [\n",
    "    'id',\n",
    "    'diagnosis',\n",
    "    'radius_mean', \n",
    "    'texture_mean', \n",
    "    'perimeter_mean',\n",
    "    'area_mean',\n",
    "    'smoothness_mean',\n",
    "    'compactness_mean',\n",
    "    'concavity_mean',\n",
    "    'concave_points_mean',\n",
    "    'symmetry_mean',\n",
    "    'fractal_dimension_mean',\n",
    "    'radius_se', # se = standard error\n",
    "    'texture_se', \n",
    "    'perimeter_se',\n",
    "    'area_se',\n",
    "    'smoothness_se',\n",
    "    'compactness_se',\n",
    "    'concavity_se',\n",
    "    'concave_points_se',\n",
    "    'symmetry_se',\n",
    "    'fractal_dimension_se',\n",
    "    'radius_worst', # worst = 'worst' or largest mean\n",
    "    'texture_worst', \n",
    "    'perimeter_worst',\n",
    "    'area_worst',\n",
    "    'smoothness_worst',\n",
    "    'compactness_worst',\n",
    "    'concavity_worst',\n",
    "    'concave_points_worst',\n",
    "    'symmetry_mean',\n",
    "    'fractal_dimension_worst',\n",
    "    \n",
    "]\n",
    "\n",
    "# Adding column names\n",
    "data.columns = columns\n",
    "\n",
    "# print(data.head())"
   ]
  },
  {
   "cell_type": "code",
   "execution_count": 51,
   "id": "80f5406c",
   "metadata": {},
   "outputs": [],
   "source": [
    "\n",
    "#file2 = open('data/diagnostic.names', 'r')\n",
    "#print(file2.read())"
   ]
  },
  {
   "cell_type": "markdown",
   "id": "9a1c9a87",
   "metadata": {},
   "source": [
    "## Classifiers\n",
    "***\n",
    "\n",
    "- literature review\n",
    "- performance"
   ]
  },
  {
   "cell_type": "markdown",
   "id": "857ea3a7",
   "metadata": {},
   "source": [
    "## Statystical Analysis of the Dataset\n",
    "***"
   ]
  },
  {
   "cell_type": "markdown",
   "id": "7709b9e1",
   "metadata": {},
   "source": [
    "### Data Overview"
   ]
  },
  {
   "cell_type": "code",
   "execution_count": 52,
   "id": "d961b16f",
   "metadata": {},
   "outputs": [
    {
     "name": "stdout",
     "output_type": "stream",
     "text": [
      "          id diagnosis  radius_mean  texture_mean  perimeter_mean  area_mean  \\\n",
      "215  8810987         M       13.860         16.93           90.96      578.9   \n",
      "424   907145         B        9.742         19.12           61.93      289.7   \n",
      "123   865432         B       14.500         10.89           94.28      640.7   \n",
      "296   891936         B       10.910         12.35           69.14      363.7   \n",
      "562   925622         M       15.220         30.62          103.40      716.9   \n",
      "\n",
      "     smoothness_mean  compactness_mean  concavity_mean  concave_points_mean  \\\n",
      "215          0.10260           0.15170        0.099010              0.05602   \n",
      "424          0.10750           0.08333        0.008934              0.01967   \n",
      "123          0.11010           0.10990        0.088420              0.05778   \n",
      "296          0.08518           0.04721        0.012360              0.01369   \n",
      "562          0.10480           0.20870        0.255000              0.09429   \n",
      "\n",
      "     ...  radius_worst  texture_worst  perimeter_worst  area_worst  \\\n",
      "215  ...         15.75          26.93           104.40       750.1   \n",
      "424  ...         11.21          23.17            71.79       380.9   \n",
      "123  ...         15.70          15.98           102.80       745.5   \n",
      "296  ...         11.37          14.82            72.42       392.2   \n",
      "562  ...         17.52          42.79           128.70       915.0   \n",
      "\n",
      "     smoothness_worst  compactness_worst  concavity_worst  \\\n",
      "215           0.14600            0.43700          0.46360   \n",
      "424           0.13980            0.13520          0.02085   \n",
      "123           0.13130            0.17880          0.25600   \n",
      "296           0.09312            0.07506          0.02884   \n",
      "562           0.14170            0.79170          1.17000   \n",
      "\n",
      "     concave_points_worst  symmetry_mean  fractal_dimension_worst  \n",
      "215               0.16540         0.3630                  0.10590  \n",
      "424               0.04589         0.3196                  0.08009  \n",
      "123               0.12210         0.2889                  0.08006  \n",
      "296               0.03194         0.2143                  0.06643  \n",
      "562               0.23560         0.4089                  0.14090  \n",
      "\n",
      "[5 rows x 32 columns]\n"
     ]
    }
   ],
   "source": [
    "print (data.sample(5))"
   ]
  },
  {
   "cell_type": "markdown",
   "id": "00d68716",
   "metadata": {},
   "source": [
    "### Basic Information\n",
    "\n",
    "Basic overview of the data incl. number of entries, number and names of columns, type of data, and Null values."
   ]
  },
  {
   "cell_type": "code",
   "execution_count": 53,
   "id": "3f1bb19e",
   "metadata": {},
   "outputs": [
    {
     "name": "stdout",
     "output_type": "stream",
     "text": [
      "<class 'pandas.core.frame.DataFrame'>\n",
      "RangeIndex: 569 entries, 0 to 568\n",
      "Data columns (total 32 columns):\n",
      " #   Column                   Non-Null Count  Dtype  \n",
      "---  ------                   --------------  -----  \n",
      " 0   id                       569 non-null    int64  \n",
      " 1   diagnosis                569 non-null    object \n",
      " 2   radius_mean              569 non-null    float64\n",
      " 3   texture_mean             569 non-null    float64\n",
      " 4   perimeter_mean           569 non-null    float64\n",
      " 5   area_mean                569 non-null    float64\n",
      " 6   smoothness_mean          569 non-null    float64\n",
      " 7   compactness_mean         569 non-null    float64\n",
      " 8   concavity_mean           569 non-null    float64\n",
      " 9   concave_points_mean      569 non-null    float64\n",
      " 10  symmetry_mean            569 non-null    float64\n",
      " 11  fractal_dimension_mean   569 non-null    float64\n",
      " 12  radius_se                569 non-null    float64\n",
      " 13  texture_se               569 non-null    float64\n",
      " 14  perimeter_se             569 non-null    float64\n",
      " 15  area_se                  569 non-null    float64\n",
      " 16  smoothness_se            569 non-null    float64\n",
      " 17  compactness_se           569 non-null    float64\n",
      " 18  concavity_se             569 non-null    float64\n",
      " 19  concave_points_se        569 non-null    float64\n",
      " 20  symmetry_se              569 non-null    float64\n",
      " 21  fractal_dimension_se     569 non-null    float64\n",
      " 22  radius_worst             569 non-null    float64\n",
      " 23  texture_worst            569 non-null    float64\n",
      " 24  perimeter_worst          569 non-null    float64\n",
      " 25  area_worst               569 non-null    float64\n",
      " 26  smoothness_worst         569 non-null    float64\n",
      " 27  compactness_worst        569 non-null    float64\n",
      " 28  concavity_worst          569 non-null    float64\n",
      " 29  concave_points_worst     569 non-null    float64\n",
      " 30  symmetry_mean            569 non-null    float64\n",
      " 31  fractal_dimension_worst  569 non-null    float64\n",
      "dtypes: float64(30), int64(1), object(1)\n",
      "memory usage: 142.4+ KB\n",
      "None\n"
     ]
    }
   ],
   "source": [
    "print (data.info()) "
   ]
  },
  {
   "cell_type": "markdown",
   "id": "c953f6ce",
   "metadata": {},
   "source": [
    "#### Data Insights\n",
    "\n",
    "1. There is a total of 569 data entries \n",
    "2. Data set does not include any Null values.\n",
    "3. There is a total of 32 columns of 3 data types: \n",
    "\n",
    "    - 30 columns with float values\n",
    "    - 1 column with integer values\n",
    "    - 1 column with object values"
   ]
  },
  {
   "cell_type": "markdown",
   "id": "b64bf002",
   "metadata": {},
   "source": [
    "### Diagnosis and Dataset Balance"
   ]
  },
  {
   "cell_type": "code",
   "execution_count": 57,
   "id": "d2f1c1ae",
   "metadata": {},
   "outputs": [
    {
     "name": "stdout",
     "output_type": "stream",
     "text": [
      "B    357\n",
      "M    212\n",
      "Name: diagnosis, dtype: int64\n"
     ]
    }
   ],
   "source": [
    "# Grouping and adding up all instances of each diagnosis\n",
    "\n",
    "print(data['diagnosis'].value_counts()) "
   ]
  },
  {
   "cell_type": "markdown",
   "id": "30b12779",
   "metadata": {},
   "source": [
    "#### Data Insights\n",
    "\n",
    "Out of 569 entries 357 were cathegorised as benign and 212 as malignant."
   ]
  },
  {
   "cell_type": "code",
   "execution_count": null,
   "id": "960cc22f",
   "metadata": {},
   "outputs": [],
   "source": []
  },
  {
   "cell_type": "markdown",
   "id": "83cf2916",
   "metadata": {},
   "source": [
    "## Machine Learning\n",
    "***\n",
    "\n",
    "- Using a range of machine learning algorithms, train a set of classifiers on the dataset (using SKLearn etc.) and present classification performance results. Detail your rationale for the parameter selections you made while training the classifiers\n",
    "- Compare, contrast and critique your results with reference to the literature"
   ]
  },
  {
   "cell_type": "markdown",
   "id": "982e7353",
   "metadata": {},
   "source": [
    "## Data Synthesis\n",
    "***\n",
    "\n",
    "- Discuss and investigate how the dataset could be extended – using data synthesis of new tumour datapoints"
   ]
  },
  {
   "cell_type": "markdown",
   "id": "f38c7d53",
   "metadata": {},
   "source": [
    "## References\n",
    "***"
   ]
  },
  {
   "cell_type": "markdown",
   "id": "df3e339f",
   "metadata": {},
   "source": [
    "UCI (1995). *Breast Cancer Wisconsin (Diagnostic) Data Set.* https://archive.ics.uci.edu/ml/datasets/breast+cancer+wisconsin+(diagnostic)"
   ]
  }
 ],
 "metadata": {
  "kernelspec": {
   "display_name": "Python 3 (ipykernel)",
   "language": "python",
   "name": "python3"
  },
  "language_info": {
   "codemirror_mode": {
    "name": "ipython",
    "version": 3
   },
   "file_extension": ".py",
   "mimetype": "text/x-python",
   "name": "python",
   "nbconvert_exporter": "python",
   "pygments_lexer": "ipython3",
   "version": "3.9.13"
  }
 },
 "nbformat": 4,
 "nbformat_minor": 5
}
