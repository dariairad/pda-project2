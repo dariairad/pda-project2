{
 "cells": [
  {
   "cell_type": "markdown",
   "id": "80080419",
   "metadata": {},
   "source": [
    "# Programming for Data Analysis - Project 2"
   ]
  },
  {
   "cell_type": "markdown",
   "id": "721cdff4",
   "metadata": {},
   "source": [
    "## Problem Statement"
   ]
  },
  {
   "cell_type": "markdown",
   "id": "eada9699",
   "metadata": {},
   "source": [
    "This project will investigate the Wisconsin Breast Cancer dataset. The following list presents the\n",
    "requirements of the project\n",
    "\n",
    "- Undertake an analysis/review of the dataset and present an overview and background.\n",
    "- Provide a literature review on classifiers which have been applied to the dataset and compare their performance\n",
    "- Present a statistical analysis of the dataset\n",
    "- Using a range of machine learning algorithms, train a set of classifiers on the dataset (using SKLearn etc.) and present classification performance results. Detail your rationale for the parameter selections you made while training the classifiers.\n",
    "- Compare, contrast and critique your results with reference to the literature\n",
    "- Discuss and investigate how the dataset could be extended – using data synthesis of new tumour datapoints\n",
    "- Document your work in a Jupyter notebook.\n",
    "- As a suggestion, you could use Pandas, Seaborn, SKLearn, etc. to perform your analysis.\n",
    "- Please use GitHub to demonstrate research, progress and consistency.\n"
   ]
  },
  {
   "cell_type": "markdown",
   "id": "cd0e2d34",
   "metadata": {},
   "source": [
    "## Project Overview"
   ]
  },
  {
   "cell_type": "markdown",
   "id": "d42d05f2",
   "metadata": {},
   "source": [
    "## Libraries"
   ]
  },
  {
   "cell_type": "code",
   "execution_count": 2,
   "id": "deb92854",
   "metadata": {},
   "outputs": [],
   "source": [
    "import pandas as pd\n",
    "\n",
    "# Numerical Arrays\n",
    "import numpy as np\n",
    "\n",
    "# Plotting\n",
    "import matplotlib as plt\n",
    "import seaborn as ss\n",
    "\n",
    "# Machine Learning\n",
    "import sklearn as skl"
   ]
  },
  {
   "cell_type": "markdown",
   "id": "3e7c0120",
   "metadata": {},
   "source": [
    "## Dataset"
   ]
  },
  {
   "cell_type": "code",
   "execution_count": 3,
   "id": "12356d4a",
   "metadata": {},
   "outputs": [
    {
     "name": "stdout",
     "output_type": "stream",
     "text": [
      "          0   1   2   3   4   5   6   7   8   9   10\n",
      "0    1000025   5   1   1   1   2   1   3   1   1   2\n",
      "1    1002945   5   4   4   5   7  10   3   2   1   2\n",
      "2    1015425   3   1   1   1   2   2   3   1   1   2\n",
      "3    1016277   6   8   8   1   3   4   3   7   1   2\n",
      "4    1017023   4   1   1   3   2   1   3   1   1   2\n",
      "..       ...  ..  ..  ..  ..  ..  ..  ..  ..  ..  ..\n",
      "694   776715   3   1   1   1   3   2   1   1   1   2\n",
      "695   841769   2   1   1   1   2   1   1   1   1   2\n",
      "696   888820   5  10  10   3   7   3   8  10   2   4\n",
      "697   897471   4   8   6   4   3   4  10   6   1   4\n",
      "698   897471   4   8   8   5   4   5  10   4   1   4\n",
      "\n",
      "[699 rows x 11 columns]\n"
     ]
    }
   ],
   "source": [
    "# Dataset import\n",
    "\n",
    "file = 'data/bcw.data'\n",
    "\n",
    "data = pd.read_csv(file, header=None)\n",
    "print (data)"
   ]
  },
  {
   "cell_type": "markdown",
   "id": "4473c671",
   "metadata": {},
   "source": [
    "## Dataset Overview & Background"
   ]
  },
  {
   "cell_type": "markdown",
   "id": "9a1c9a87",
   "metadata": {},
   "source": [
    "## Classifiers\n",
    "\n",
    "- literature review\n",
    "- performance"
   ]
  },
  {
   "cell_type": "markdown",
   "id": "857ea3a7",
   "metadata": {},
   "source": [
    "## Statystical Analysis of the Dataset"
   ]
  },
  {
   "cell_type": "markdown",
   "id": "83cf2916",
   "metadata": {},
   "source": [
    "## Machine Learning\n",
    "\n",
    "- Using a range of machine learning algorithms, train a set of classifiers on the dataset (using SKLearn etc.) and present classification performance results. Detail your rationale for the parameter selections you made while training the classifiers\n",
    "- Compare, contrast and critique your results with reference to the literature"
   ]
  },
  {
   "cell_type": "markdown",
   "id": "982e7353",
   "metadata": {},
   "source": [
    "## Data Synthesis\n",
    "\n",
    "- Discuss and investigate how the dataset could be extended – using data synthesis of new tumour datapoints"
   ]
  },
  {
   "cell_type": "markdown",
   "id": "f38c7d53",
   "metadata": {},
   "source": [
    "## References"
   ]
  },
  {
   "cell_type": "markdown",
   "id": "f5e9f6c0",
   "metadata": {},
   "source": [
    "UCI (1992). *Breast Cancer Wisconsin (Original) Data Set.* https://archive.ics.uci.edu/ml/datasets/breast+cancer+wisconsin+(original)"
   ]
  }
 ],
 "metadata": {
  "kernelspec": {
   "display_name": "Python 3 (ipykernel)",
   "language": "python",
   "name": "python3"
  },
  "language_info": {
   "codemirror_mode": {
    "name": "ipython",
    "version": 3
   },
   "file_extension": ".py",
   "mimetype": "text/x-python",
   "name": "python",
   "nbconvert_exporter": "python",
   "pygments_lexer": "ipython3",
   "version": "3.9.13"
  }
 },
 "nbformat": 4,
 "nbformat_minor": 5
}
